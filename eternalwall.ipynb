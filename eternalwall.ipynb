{
 "cells": [
  {
   "cell_type": "markdown",
   "metadata": {
    "slideshow": {
     "slide_type": "slide"
    }
   },
   "source": [
    "# Eternal wall\n",
    " - Bitcoin transactions support adding small data in each transaction\n",
    " - Used by spenders to add meta information viz ticket #\n",
    " - Data will be stored by all nodes (forever)\n"
   ]
  },
  {
   "cell_type": "markdown",
   "metadata": {
    "slideshow": {
     "slide_type": "skip"
    }
   },
   "source": [
    "# Imports\n",
    "- Import python libraries for constructing and signing transactions"
   ]
  },
  {
   "cell_type": "code",
   "execution_count": null,
   "metadata": {
    "code_folding": [],
    "slideshow": {
     "slide_type": "slide"
    }
   },
   "outputs": [],
   "source": [
    "# imports\n",
    "import sys\n",
    "from bitcointx.wallet import CCoinKey, P2PKHCoinAddress\n",
    "from bitcointx.core.key import (\n",
    "    CPubKey, CKeyBase, CExtKeyBase, CExtPubKeyBase\n",
    ")\n",
    "from bitcointx.core import CMutableTxIn, CMutableTxOut, CMutableTransaction, COutPoint, CTxInWitness, CTxWitness, b2lx, x, lx, b2x, Hash, Hash160, CTransaction, CoreCoinParams, CTxOut\n",
    "from bitcointx.core.script import CScript, CScriptWitness, OP_CHECKSIG, SignatureHash, SIGHASH_ALL, SIGVERSION_WITNESS_V0, OP_RETURN\n",
    "from bitcointx.wallet import CBitcoinSecret, P2PKHBitcoinAddress, P2WPKHBitcoinAddress, CBitcoinAddress\n",
    "import binascii\n",
    "from bitcointx.core.scripteval import VerifyScript\n",
    "from bitcointx.signmessage import BitcoinMessage, VerifyMessage, SignMessage\n",
    "import os"
   ]
  },
  {
   "cell_type": "markdown",
   "metadata": {
    "slideshow": {
     "slide_type": "slide"
    }
   },
   "source": [
    "# Create new account\n",
    "- Easy to create accounts on fly\n",
    "- General recommendation is to use new account for each transaction\n",
    "- Hardware wallets like ledger nano, trezor"
   ]
  },
  {
   "cell_type": "code",
   "execution_count": null,
   "metadata": {},
   "outputs": [],
   "source": [
    "privkey = CBitcoinSecret.from_secret_bytes(os.urandom(32))"
   ]
  },
  {
   "cell_type": "code",
   "execution_count": null,
   "metadata": {
    "code_folding": [],
    "scrolled": true,
    "slideshow": {
     "slide_type": "fragment"
    }
   },
   "outputs": [],
   "source": [
    "# create new account\n",
    "privkey = CBitcoinSecret.from_secret_bytes(os.urandom(32))\n",
    "print(\"private key\", privkey)\n",
    "print(\"public key\", P2PKHBitcoinAddress.from_pubkey(privkey.pub))"
   ]
  },
  {
   "cell_type": "markdown",
   "metadata": {
    "slideshow": {
     "slide_type": "slide"
    }
   },
   "source": [
    "# Fund account\n",
    "\n",
    "- Fund new account with some coins\n",
    "- Spend these coins to pay for the transaction that writes message\n",
    "- Recall that each transaction spends the coin in entirety\n",
    "- Specify change address for  balance less the transaction fee"
   ]
  },
  {
   "cell_type": "markdown",
   "metadata": {
    "slideshow": {
     "slide_type": "slide"
    }
   },
   "source": [
    "# Read message from input"
   ]
  },
  {
   "cell_type": "code",
   "execution_count": null,
   "metadata": {
    "slideshow": {
     "slide_type": "skip"
    }
   },
   "outputs": [],
   "source": [
    "# read message from file\n",
    "msgfile = \"./message2\"\n",
    "msg = \"\"\n",
    "with open(msgfile, 'rb') as f:\n",
    "    msg = f.read(40)\n",
    "print(\"bytes \", msg)"
   ]
  },
  {
   "cell_type": "code",
   "execution_count": null,
   "metadata": {
    "slideshow": {
     "slide_type": "slide"
    }
   },
   "outputs": [],
   "source": [
    "msg = input(\"any message upto 20 characters\")\n",
    "msg = str.encode(msg)\n",
    "print(f\"Message is {msg}\")"
   ]
  },
  {
   "cell_type": "code",
   "execution_count": null,
   "metadata": {
    "code_folding": [],
    "slideshow": {
     "slide_type": "skip"
    }
   },
   "outputs": [],
   "source": [
    "# secrets\n",
    "#privkey = CBitcoinSecret(\n",
    "    \"1VsqF24jNusMxaSx6o7AF14g4yEwzGoCE\")"
   ]
  },
  {
   "cell_type": "markdown",
   "metadata": {
    "slideshow": {
     "slide_type": "slide"
    }
   },
   "source": [
    "# Transaction input \n",
    "- Specify hash of the transaction we wish to spend"
   ]
  },
  {
   "cell_type": "code",
   "execution_count": null,
   "metadata": {
    "slideshow": {
     "slide_type": "fragment"
    }
   },
   "outputs": [],
   "source": [
    "# spending output aka input for the transaction\n",
    "#txid = lx('3c738db4f8c32a6e150e0525b79e836a1509ee67543a353840ab456d0512db6a')\n",
    "txid = lx('f381136682b13d7834c219d4bb5e31b827d3e0ffacd30da718d7396ad3be6126')\n",
    "COIN = 100000000\n",
    "vout = 0\n",
    "value_in = 0.00010000 * COIN"
   ]
  },
  {
   "cell_type": "markdown",
   "metadata": {
    "slideshow": {
     "slide_type": "skip"
    }
   },
   "source": []
  },
  {
   "cell_type": "code",
   "execution_count": null,
   "metadata": {
    "scrolled": true,
    "slideshow": {
     "slide_type": "slide"
    }
   },
   "outputs": [],
   "source": [
    "# transaction skeleton\n",
    "txin = CMutableTxIn(COutPoint(txid, vout))\n",
    "# script pub key for the spend utxo\n",
    "txin_scriptPubKey = P2PKHBitcoinAddress.from_pubkey(\n",
    "    privkey.pub).to_scriptPubKey()\n",
    "print(txin_scriptPubKey.hex())"
   ]
  },
  {
   "cell_type": "markdown",
   "metadata": {
    "slideshow": {
     "slide_type": "slide"
    }
   },
   "source": [
    "# Specify outputs\n",
    "- One output is for the change\n",
    "- Other (unspendable) output is for the message"
   ]
  },
  {
   "cell_type": "code",
   "execution_count": null,
   "metadata": {
    "slideshow": {
     "slide_type": "fragment"
    }
   },
   "outputs": [],
   "source": [
    "# create change transaction and message transaction\n",
    "msgout = CMutableTxOut(0, CScript([OP_RETURN, msg]))\n",
    "txout = CMutableTxOut(\n",
    "    5000,\n",
    "    CBitcoinAddress('1VsqF24jNusMxaSx6o7AF14g4yEwzGoCE').to_scriptPubKey())"
   ]
  },
  {
   "cell_type": "markdown",
   "metadata": {
    "slideshow": {
     "slide_type": "slide"
    }
   },
   "source": [
    "# Fee\n",
    "- Add some fee for the miner"
   ]
  },
  {
   "cell_type": "code",
   "execution_count": null,
   "metadata": {
    "slideshow": {
     "slide_type": "fragment"
    }
   },
   "outputs": [],
   "source": [
    "# create transaction with input and output\n",
    "tx = CTransaction([txin], [txout, msgout]).to_mutable()\n",
    "# add fee for miner\n",
    "FEE_PER_BYTE = 0.00005 * COIN / 1000\n",
    "tx.vout[0].nValue = int(\n",
    "    value_in - max(len(tx.serialize()) * FEE_PER_BYTE, 0.00005 * COIN))"
   ]
  },
  {
   "cell_type": "markdown",
   "metadata": {
    "slideshow": {
     "slide_type": "slide"
    }
   },
   "source": [
    "# Sign\n",
    "\n",
    "- previous transaction is signed to prove ownership of coins\n",
    "- Signature can't be forged, irrefutable ownership"
   ]
  },
  {
   "cell_type": "code",
   "execution_count": null,
   "metadata": {
    "slideshow": {
     "slide_type": "fragment"
    }
   },
   "outputs": [],
   "source": [
    "# get hash for signing\n",
    "sighash = SignatureHash(txin_scriptPubKey, tx, 0, SIGHASH_ALL)\n",
    "# Now sign it. We have to append the type of signature we want to the end, in\n",
    "# this case the usual SIGHASH_ALL.\n",
    "sig = privkey.sign(sighash) + bytes([SIGHASH_ALL])\n",
    "print(sig.hex())"
   ]
  },
  {
   "cell_type": "code",
   "execution_count": null,
   "metadata": {
    "slideshow": {
     "slide_type": "slide"
    }
   },
   "outputs": [],
   "source": [
    "# add signature to the scriptSig\n",
    "txin.scriptSig = CScript([sig, privkey.pub])\n",
    "tx = CTransaction([txin], [txout, msgout])"
   ]
  },
  {
   "cell_type": "code",
   "execution_count": null,
   "metadata": {
    "slideshow": {
     "slide_type": "slide"
    }
   },
   "outputs": [],
   "source": [
    "# print rawtransaction and size of transaction\n",
    "tx_bytes = tx.serialize()\n",
    "tx_hex = b2x(tx_bytes)\n",
    "print(tx_hex)\n",
    "print(len(tx_bytes), 'bytes', file=sys.stderr)"
   ]
  },
  {
   "cell_type": "markdown",
   "metadata": {
    "slideshow": {
     "slide_type": "fragment"
    }
   },
   "source": [
    "# Publish transaction to the network\n",
    "\n",
    "- Everything until now is done offline\n",
    "- We can now publish the transaction to any Bitcoin node\n",
    "- Gossip protocol ensures that the transaction eventually reaches all nodes"
   ]
  },
  {
   "cell_type": "markdown",
   "metadata": {
    "slideshow": {
     "slide_type": "subslide"
    }
   },
   "source": [
    "# Let's check the message from last wintersession\n",
    "- https://blockstream.info/tx/ee73a7a5e2bbb7b981a30398343e2c6ff50468060aa172f2f04a883fb1200fc1\n",
    "- Message is secured by > 51k bitcoin blocks"
   ]
  }
 ],
 "metadata": {
  "celltoolbar": "Slideshow",
  "kernelspec": {
   "display_name": "Python [conda env:eternalwall] *",
   "language": "python",
   "name": "conda-env-eternalwall-py"
  },
  "language_info": {
   "codemirror_mode": {
    "name": "ipython",
    "version": 3
   },
   "file_extension": ".py",
   "mimetype": "text/x-python",
   "name": "python",
   "nbconvert_exporter": "python",
   "pygments_lexer": "ipython3",
   "version": "3.6.12"
  },
  "livereveal": {
   "slideNumber": true,
   "theme": "serif",
   "transition": "convex"
  },
  "rise": {
   "chalkboard": {
    "color": [
     "rgb(250, 250, 250)",
     "rgb(250, 250, 250)"
    ]
   },
   "enable_chalkboard": true
  }
 },
 "nbformat": 4,
 "nbformat_minor": 4
}
